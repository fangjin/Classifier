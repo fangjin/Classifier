{
 "cells": [
  {
   "cell_type": "code",
   "execution_count": 71,
   "metadata": {
    "collapsed": true
   },
   "outputs": [],
   "source": [
    "from sklearn.metrics import precision_recall_curve\n",
    "from sklearn.metrics import classification_report\n",
    "from sklearn.dummy import DummyClassifier\n",
    "\n",
    "import pandas as pd\n",
    "import numpy as np\n",
    "from matplotlib import pyplot as plt\n",
    "%matplotlib inline"
   ]
  },
  {
   "cell_type": "code",
   "execution_count": 64,
   "metadata": {
    "collapsed": false
   },
   "outputs": [],
   "source": [
    "# Load Result Set 1\n",
    "R1 = pd.read_csv('./mylable-result/weather_predict_result1', \n",
    "                 sep='\\t', skiprows = 6, header=None, \n",
    "                 names = ['predicted', 'true', 'decision_function', 'decision_function_true'])\n",
    "\n",
    "# Load Results Set 2\n",
    "R2 = pd.read_csv('./mylable-result/weather_predict_result2', \n",
    "                 sep ='\\t', skiprows = 6, header = None,\n",
    "                names = ['predicted', 'true', 'decision_function', 'decision_function_true'])\n",
    "\n",
    "# Load Training Set\n",
    "TRAIN = ((pd.read_csv('./mylable-result/weather_train', sep = '\\t', header = None).iloc[:,0] == 'climate') * 1).values\n",
    "\n",
    "# Make dummy classifier\n",
    "dummy = DummyClassifier(strategy = 'stratified')"
   ]
  },
  {
   "cell_type": "code",
   "execution_count": 124,
   "metadata": {
    "collapsed": false
   },
   "outputs": [
    {
     "name": "stdout",
     "output_type": "stream",
     "text": [
      "### R1 results:\n",
      "             precision    recall  f1-score   support\n",
      "\n",
      "    climate       0.75      0.17      0.27        36\n",
      "non-climate       0.90      0.99      0.94       264\n",
      "\n",
      "avg / total       0.88      0.89      0.86       300\n",
      "\n",
      "############\n",
      "### DUMMY R1\n",
      "             precision    recall  f1-score   support\n",
      "\n",
      "non-climate       0.88      0.89      0.88       264\n",
      "    climate       0.12      0.11      0.11        36\n",
      "\n",
      "avg / total       0.79      0.79      0.79       300\n",
      "\n",
      "\n",
      "\n",
      "\n",
      "\n",
      "\n",
      "\n",
      "\n",
      "########################################\n",
      "### R2 results:\n",
      "             precision    recall  f1-score   support\n",
      "\n",
      "    climate       0.75      0.11      0.19        55\n",
      "non-climate       0.84      0.99      0.91       264\n",
      "\n",
      "avg / total       0.83      0.84      0.79       319\n",
      "\n",
      "############\n",
      "### DUMMY R2:\n",
      "             precision    recall  f1-score   support\n",
      "\n",
      "non-climate       0.82      0.88      0.85       264\n",
      "    climate       0.13      0.09      0.11        55\n",
      "\n",
      "avg / total       0.70      0.74      0.72       319\n",
      "\n"
     ]
    }
   ],
   "source": [
    "# Classification Report for R1\n",
    "print '### R1 results:'\n",
    "y_true = R1['true'].values\n",
    "y_pred = R1['predicted'].values\n",
    "print classification_report(y_true, y_pred)\n",
    "\n",
    "\n",
    "print '############\\n### DUMMY R1'\n",
    "\n",
    "dummy.fit(np.arange(len(TRAIN)),TRAIN)\n",
    "d_pred = dummy.predict(np.array([np.arange(len(R1))]).T)\n",
    "d_prob1 = dummy.predict_proba(np.array([np.arange(len(R1))]).T)\n",
    "print classification_report((y_true == 'climate') * 1, d_pred, target_names = ['non-climate', 'climate'])\n",
    "\n",
    "print '\\n\\n\\n\\n\\n\\n\\n########################################\\n### R2 results:'\n",
    "\n",
    "y_true = R2['true'].values\n",
    "y_pred = R2['predicted'].values\n",
    "print classification_report(y_true, y_pred)\n",
    "\n",
    "print '############\\n### DUMMY R2:'\n",
    "\n",
    "dummy.fit(np.arange(len(TRAIN)),TRAIN)\n",
    "d_pred = dummy.predict(np.array([np.arange(len(R2))]).T)\n",
    "d_prob2 = dummy.predict_proba(np.array([np.arange(len(R2))]).T)\n",
    "print classification_report((y_true == 'climate') * 1, d_pred, target_names = ['non-climate', 'climate'])"
   ]
  },
  {
   "cell_type": "code",
   "execution_count": 136,
   "metadata": {
    "collapsed": false
   },
   "outputs": [
    {
     "data": {
      "text/plain": [
       "<matplotlib.text.Text at 0x6953910>"
      ]
     },
     "execution_count": 136,
     "metadata": {},
     "output_type": "execute_result"
    },
    {
     "data": {
      "image/png": "[encoded data removed]",
      "text/plain": [
       "<matplotlib.figure.Figure at 0x64dec50>"
      ]
     },
     "metadata": {},
     "output_type": "display_data"
    }
   ],
   "source": [
    "# Classification Report for R1\n",
    "y_true = R1['true'].values\n",
    "y_pred = R1['predicted'].values\n",
    "y_probs = R1['decision_function_true'].values\n",
    "\n",
    "prc, rec, thr = precision_recall_curve(y_true, y_probs, pos_label = 'climate')\n",
    "Dprc, Drec, Dthr = precision_recall_curve(y_true, d_prob1[:,1], pos_label = 'climate')\n",
    "plt.plot(rec, prc)\n",
    "plt.plot(Drec,Dprc,'r')\n",
    "plt.xlabel('recall')\n",
    "plt.ylabel('precision')"
   ]
  },
  {
   "cell_type": "code",
   "execution_count": 133,
   "metadata": {
    "collapsed": false
   },
   "outputs": [
    {
     "data": {
      "text/plain": [
       "<matplotlib.text.Text at 0x64c7610>"
      ]
     },
     "execution_count": 133,
     "metadata": {},
     "output_type": "execute_result"
    },
    {
     "data": {
      "image/png": "[encoded data removed]",
      "text/plain": [
       "<matplotlib.figure.Figure at 0x6f6f5d0>"
      ]
     },
     "metadata": {},
     "output_type": "display_data"
    }
   ],
   "source": [
    "# Classification Report for R2\n",
    "y_true = R2['true'].values\n",
    "y_pred = R2['predicted'].values\n",
    "y_probs = R2['decision_function_true'].values\n",
    "\n",
    "prc, rec, thr = precision_recall_curve(y_true, y_probs, pos_label = 'climate')\n",
    "Dprc, Drec, Dthr = precision_recall_curve(y_true, d_prob2[:,1], pos_label = 'climate')\n",
    "plt.plot(rec, prc)\n",
    "plt.plot(Drec,Dprc,'r')\n",
    "plt.xlabel('recall')\n",
    "plt.ylabel('precision')"
   ]
  },
  {
   "cell_type": "code",
   "execution_count": null,
   "metadata": {
    "collapsed": true
   },
   "outputs": [],
   "source": []
  }
 ],
 "metadata": {
  "kernelspec": {
   "display_name": "Python 2",
   "language": "python",
   "name": "python2"
  },
  "language_info": {
   "codemirror_mode": {
    "name": "ipython",
    "version": 2
   },
   "file_extension": ".py",
   "mimetype": "text/x-python",
   "name": "python",
   "nbconvert_exporter": "python",
   "pygments_lexer": "ipython2",
   "version": "2.7.3"
  }
 },
 "nbformat": 4,
 "nbformat_minor": 0
}
